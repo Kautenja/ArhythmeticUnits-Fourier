{
 "cells": [
  {
   "cell_type": "code",
   "execution_count": 1,
   "id": "f7143752",
   "metadata": {},
   "outputs": [],
   "source": [
    "import pandas as pd\n",
    "from window import (\n",
    "    # Non-parametric windows\n",
    "    boxcar,\n",
    "    bartlett,\n",
    "    barthann,\n",
    "    parzen,\n",
    "    welch,\n",
    "    cosine,\n",
    "    bohman,\n",
    "    lanczos,\n",
    "    hann,\n",
    "    hamming,\n",
    "    blackman,\n",
    "    blackmanharris,\n",
    "    blackmannuttall,\n",
    "    kaiserbessel,\n",
    "    flattop,\n",
    "    # Parametric windows\n",
    "    exponential,\n",
    "    gaussian,\n",
    "    hannpoisson,\n",
    "    tukey,\n",
    ")"
   ]
  },
  {
   "cell_type": "markdown",
   "id": "dd41d057",
   "metadata": {},
   "source": [
    "## Non-Parametric Windows"
   ]
  },
  {
   "cell_type": "code",
   "execution_count": 2,
   "id": "9f4e1229",
   "metadata": {},
   "outputs": [],
   "source": [
    "WINDOWS = (\n",
    "    boxcar,\n",
    "    bartlett,\n",
    "    barthann,\n",
    "    parzen,\n",
    "    welch,\n",
    "    cosine,\n",
    "    bohman,\n",
    "    lanczos,\n",
    "    hann,\n",
    "    hamming,\n",
    "    blackman,\n",
    "    blackmanharris,\n",
    "    blackmannuttall,\n",
    "    kaiserbessel,\n",
    "    flattop,\n",
    ")\n",
    "NAMES = list(map(lambda x: x.__name__, WINDOWS))"
   ]
  },
  {
   "cell_type": "code",
   "execution_count": 3,
   "id": "f019c4d7",
   "metadata": {},
   "outputs": [],
   "source": [
    "N = 1024\n",
    "symmetric = False"
   ]
  },
  {
   "cell_type": "code",
   "execution_count": 4,
   "id": "72ac928c",
   "metadata": {},
   "outputs": [],
   "source": [
    "COHERENT_GAINS = list(map(lambda x: x(N, symmetric).mean(), WINDOWS))"
   ]
  },
  {
   "cell_type": "code",
   "execution_count": 5,
   "id": "27e377f6",
   "metadata": {},
   "outputs": [
    {
     "data": {
      "text/html": [
       "<div>\n",
       "<style scoped>\n",
       "    .dataframe tbody tr th:only-of-type {\n",
       "        vertical-align: middle;\n",
       "    }\n",
       "\n",
       "    .dataframe tbody tr th {\n",
       "        vertical-align: top;\n",
       "    }\n",
       "\n",
       "    .dataframe thead th {\n",
       "        text-align: right;\n",
       "    }\n",
       "</style>\n",
       "<table border=\"1\" class=\"dataframe\">\n",
       "  <thead>\n",
       "    <tr style=\"text-align: right;\">\n",
       "      <th></th>\n",
       "      <th>coherent_gain</th>\n",
       "    </tr>\n",
       "    <tr>\n",
       "      <th>window</th>\n",
       "      <th></th>\n",
       "    </tr>\n",
       "  </thead>\n",
       "  <tbody>\n",
       "    <tr>\n",
       "      <th>boxcar</th>\n",
       "      <td>1.000000</td>\n",
       "    </tr>\n",
       "    <tr>\n",
       "      <th>bartlett</th>\n",
       "      <td>0.500000</td>\n",
       "    </tr>\n",
       "    <tr>\n",
       "      <th>barthann</th>\n",
       "      <td>0.500000</td>\n",
       "    </tr>\n",
       "    <tr>\n",
       "      <th>parzen</th>\n",
       "      <td>0.375000</td>\n",
       "    </tr>\n",
       "    <tr>\n",
       "      <th>welch</th>\n",
       "      <td>0.667317</td>\n",
       "    </tr>\n",
       "    <tr>\n",
       "      <th>cosine</th>\n",
       "      <td>0.637240</td>\n",
       "    </tr>\n",
       "    <tr>\n",
       "      <th>bohman</th>\n",
       "      <td>0.405285</td>\n",
       "    </tr>\n",
       "    <tr>\n",
       "      <th>lanczos</th>\n",
       "      <td>0.589490</td>\n",
       "    </tr>\n",
       "    <tr>\n",
       "      <th>hann</th>\n",
       "      <td>0.500000</td>\n",
       "    </tr>\n",
       "    <tr>\n",
       "      <th>hamming</th>\n",
       "      <td>0.540000</td>\n",
       "    </tr>\n",
       "    <tr>\n",
       "      <th>blackman</th>\n",
       "      <td>0.420000</td>\n",
       "    </tr>\n",
       "    <tr>\n",
       "      <th>blackmanharris</th>\n",
       "      <td>0.358750</td>\n",
       "    </tr>\n",
       "    <tr>\n",
       "      <th>blackmannuttall</th>\n",
       "      <td>0.363582</td>\n",
       "    </tr>\n",
       "    <tr>\n",
       "      <th>kaiserbessel</th>\n",
       "      <td>0.402000</td>\n",
       "    </tr>\n",
       "    <tr>\n",
       "      <th>flattop</th>\n",
       "      <td>0.215579</td>\n",
       "    </tr>\n",
       "  </tbody>\n",
       "</table>\n",
       "</div>"
      ],
      "text/plain": [
       "                 coherent_gain\n",
       "window                        \n",
       "boxcar                1.000000\n",
       "bartlett              0.500000\n",
       "barthann              0.500000\n",
       "parzen                0.375000\n",
       "welch                 0.667317\n",
       "cosine                0.637240\n",
       "bohman                0.405285\n",
       "lanczos               0.589490\n",
       "hann                  0.500000\n",
       "hamming               0.540000\n",
       "blackman              0.420000\n",
       "blackmanharris        0.358750\n",
       "blackmannuttall       0.363582\n",
       "kaiserbessel          0.402000\n",
       "flattop               0.215579"
      ]
     },
     "execution_count": 5,
     "metadata": {},
     "output_type": "execute_result"
    }
   ],
   "source": [
    "df = pd.DataFrame({\n",
    "    'window': NAMES,\n",
    "    'coherent_gain': COHERENT_GAINS,\n",
    "}).set_index('window')\n",
    "df"
   ]
  },
  {
   "cell_type": "markdown",
   "id": "a7946fc0",
   "metadata": {},
   "source": [
    "## Parametric Windows"
   ]
  },
  {
   "cell_type": "code",
   "execution_count": null,
   "id": "79447939",
   "metadata": {},
   "outputs": [],
   "source": []
  },
  {
   "cell_type": "markdown",
   "id": "8a311010",
   "metadata": {},
   "source": [
    " "
   ]
  }
 ],
 "metadata": {
  "kernelspec": {
   "display_name": "Python 3 (ipykernel)",
   "language": "python",
   "name": "python3"
  },
  "language_info": {
   "codemirror_mode": {
    "name": "ipython",
    "version": 3
   },
   "file_extension": ".py",
   "mimetype": "text/x-python",
   "name": "python",
   "nbconvert_exporter": "python",
   "pygments_lexer": "ipython3",
   "version": "3.9.7"
  }
 },
 "nbformat": 4,
 "nbformat_minor": 5
}
