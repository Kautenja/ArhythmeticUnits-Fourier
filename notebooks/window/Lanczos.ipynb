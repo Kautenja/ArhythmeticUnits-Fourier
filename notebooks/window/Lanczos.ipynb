{
 "cells": [
  {
   "cell_type": "markdown",
   "metadata": {},
   "source": [
    "# Lanczos Window\n",
    "\n",
    "$$\n",
    "w[k] = \\begin{cases}\n",
    "\\frac{\n",
    "  \\sin\\bigg(\\pi\\big(\\frac{2k}{N-\\mathrm{1}_{symmetric}}-1\\big)\\bigg)\n",
    "  }{\n",
    "  \\pi\\big(\\frac{2k}{N-\\mathrm{1}_{symmetric}}-1\\big)\n",
    "} & k \\ne \\frac{N-\\mathrm{1}_{symmetric}}{2} \\\\\n",
    "1 & \\text{otherwise}\n",
    "\\end{cases}\n",
    "$$\n",
    "\n",
    "**New to scipy in 1.10 (not released as of October 3, 2022)**"
   ]
  },
  {
   "cell_type": "code",
   "execution_count": 1,
   "metadata": {},
   "outputs": [],
   "source": [
    "import numpy as np\n",
    "import pandas as pd\n",
    "import matplotlib.pyplot as plt\n",
    "import scipy.signal as dsp\n",
    "import scipy.fftpack as fft\n",
    "import IPython.display as display\n",
    "from zplot import zplot\n",
    "from compare import compare"
   ]
  },
  {
   "cell_type": "code",
   "execution_count": 2,
   "metadata": {},
   "outputs": [],
   "source": [
    "def lanczos(N, sym=False):\n",
    "    \"\"\"\n",
    "    Return a Lanczos window.\n",
    "\n",
    "    Args:\n",
    "        N: Number of points in the output window. \n",
    "        If zero or less, an empty array is returned.\n",
    "        sym: When True (default), generates a symmetric window, \n",
    "        for use in filter design. When False, generates a \n",
    "        periodic window, for use in spectral analysis.\n",
    "\n",
    "    Returns:\n",
    "        the Lanczos window of length N with given symmetry\n",
    "\n",
    "    \"\"\"\n",
    "    n = np.arange(N)\n",
    "    N = N - 1 if sym else N\n",
    "    w = np.pi * (2 * n / N - 1)\n",
    "    w = np.sin(w) / (w + 1e-12)\n",
    "    w[N//2] = 1\n",
    "    return w"
   ]
  },
  {
   "cell_type": "code",
   "execution_count": 3,
   "metadata": {},
   "outputs": [
    {
     "data": {
      "text/plain": [
       "[3.898171832520617e-17,\n",
       " 0.3484105662791794,\n",
       " 0.7241014497831975,\n",
       " 1.0,\n",
       " 0.9667663853063981,\n",
       " 0.7241014497821217,\n",
       " 0.348410566278869]"
      ]
     },
     "execution_count": 3,
     "metadata": {},
     "output_type": "execute_result"
    }
   ],
   "source": [
    "list(lanczos(7, False))"
   ]
  },
  {
   "cell_type": "code",
   "execution_count": 4,
   "metadata": {},
   "outputs": [
    {
     "data": {
      "text/plain": [
       "[3.898171832520617e-17,\n",
       " 0.3001054387191628,\n",
       " 0.6366197723679867,\n",
       " 0.9003163161582524,\n",
       " 1.0,\n",
       " 0.9003163161559598,\n",
       " 0.636619772367176,\n",
       " 0.300105438718908]"
      ]
     },
     "execution_count": 4,
     "metadata": {},
     "output_type": "execute_result"
    }
   ],
   "source": [
    "list(lanczos(8, False))"
   ]
  },
  {
   "cell_type": "code",
   "execution_count": 5,
   "metadata": {},
   "outputs": [
    {
     "data": {
      "text/plain": [
       "[3.898171832520617e-17,\n",
       " 0.4134966715665414,\n",
       " 0.8269933431334778,\n",
       " 1.0,\n",
       " 0.8269933431318984,\n",
       " 0.4134966715661465,\n",
       " 3.898171832518135e-17]"
      ]
     },
     "execution_count": 5,
     "metadata": {},
     "output_type": "execute_result"
    }
   ],
   "source": [
    "list(lanczos(7, True))"
   ]
  },
  {
   "cell_type": "code",
   "execution_count": 6,
   "metadata": {},
   "outputs": [
    {
     "data": {
      "text/plain": [
       "[3.898171832520617e-17,\n",
       " 0.3484105662791794,\n",
       " 0.7241014497831975,\n",
       " 1.0,\n",
       " 0.9667663853063981,\n",
       " 0.7241014497821217,\n",
       " 0.348410566278869,\n",
       " 3.898171832518135e-17]"
      ]
     },
     "execution_count": 6,
     "metadata": {},
     "output_type": "execute_result"
    }
   ],
   "source": [
    "list(lanczos(8, True))"
   ]
  },
  {
   "cell_type": "markdown",
   "metadata": {},
   "source": [
    "## Asymmetric"
   ]
  },
  {
   "cell_type": "markdown",
   "metadata": {},
   "source": [
    "### Odd"
   ]
  },
  {
   "cell_type": "code",
   "execution_count": 7,
   "metadata": {},
   "outputs": [
    {
     "ename": "AttributeError",
     "evalue": "module 'scipy.signal.windows' has no attribute 'lanczos'",
     "output_type": "error",
     "traceback": [
      "\u001b[0;31m---------------------------------------------------------------------------\u001b[0m",
      "\u001b[0;31mAttributeError\u001b[0m                            Traceback (most recent call last)",
      "Cell \u001b[0;32mIn [7], line 1\u001b[0m\n\u001b[0;32m----> 1\u001b[0m test, reference \u001b[38;5;241m=\u001b[39m compare(\u001b[38;5;241m7\u001b[39m, lanczos, dsp\u001b[38;5;241m.\u001b[39mwindows\u001b[38;5;241m.\u001b[39mlanczos, \u001b[38;5;28;01mFalse\u001b[39;00m)\n",
      "\u001b[0;31mAttributeError\u001b[0m: module 'scipy.signal.windows' has no attribute 'lanczos'"
     ]
    }
   ],
   "source": [
    "test, reference = compare(7, lanczos, dsp.windows.lanczos, False)"
   ]
  },
  {
   "cell_type": "code",
   "execution_count": null,
   "metadata": {},
   "outputs": [],
   "source": [
    "_ = dsp.freqz(test, plot=zplot)"
   ]
  },
  {
   "cell_type": "code",
   "execution_count": null,
   "metadata": {},
   "outputs": [],
   "source": [
    "list(test)"
   ]
  },
  {
   "cell_type": "code",
   "execution_count": null,
   "metadata": {},
   "outputs": [],
   "source": [
    "list(reference)"
   ]
  },
  {
   "cell_type": "markdown",
   "metadata": {},
   "source": [
    "### Even"
   ]
  },
  {
   "cell_type": "code",
   "execution_count": null,
   "metadata": {
    "scrolled": false
   },
   "outputs": [],
   "source": [
    "test, reference = compare(8, lanczos, dsp.windows.lanczos, False)"
   ]
  },
  {
   "cell_type": "code",
   "execution_count": null,
   "metadata": {},
   "outputs": [],
   "source": [
    "_ = dsp.freqz(test, plot=zplot)"
   ]
  },
  {
   "cell_type": "code",
   "execution_count": null,
   "metadata": {},
   "outputs": [],
   "source": [
    "list(test)"
   ]
  },
  {
   "cell_type": "code",
   "execution_count": null,
   "metadata": {},
   "outputs": [],
   "source": [
    "list(reference)"
   ]
  },
  {
   "cell_type": "markdown",
   "metadata": {},
   "source": [
    "## Symmetric"
   ]
  },
  {
   "cell_type": "markdown",
   "metadata": {},
   "source": [
    "### Odd"
   ]
  },
  {
   "cell_type": "code",
   "execution_count": null,
   "metadata": {},
   "outputs": [],
   "source": [
    "test, reference = compare(7, lanczos, dsp.windows.lanczos, True)"
   ]
  },
  {
   "cell_type": "code",
   "execution_count": null,
   "metadata": {},
   "outputs": [],
   "source": [
    "_ = dsp.freqz(test, plot=zplot)"
   ]
  },
  {
   "cell_type": "code",
   "execution_count": null,
   "metadata": {},
   "outputs": [],
   "source": [
    "list(test)"
   ]
  },
  {
   "cell_type": "code",
   "execution_count": null,
   "metadata": {},
   "outputs": [],
   "source": [
    "list(reference)"
   ]
  },
  {
   "cell_type": "markdown",
   "metadata": {},
   "source": [
    "### Even"
   ]
  },
  {
   "cell_type": "code",
   "execution_count": null,
   "metadata": {
    "scrolled": false
   },
   "outputs": [],
   "source": [
    "test, reference = compare(8, lanczos, dsp.windows.lanczos, True)"
   ]
  },
  {
   "cell_type": "code",
   "execution_count": null,
   "metadata": {},
   "outputs": [],
   "source": [
    "_ = dsp.freqz(test, plot=zplot)"
   ]
  },
  {
   "cell_type": "code",
   "execution_count": null,
   "metadata": {},
   "outputs": [],
   "source": [
    "list(test)"
   ]
  },
  {
   "cell_type": "code",
   "execution_count": null,
   "metadata": {},
   "outputs": [],
   "source": [
    "list(reference)"
   ]
  },
  {
   "cell_type": "markdown",
   "metadata": {},
   "source": [
    "## Coherent Gain"
   ]
  },
  {
   "cell_type": "code",
   "execution_count": 9,
   "metadata": {},
   "outputs": [
    {
     "data": {
      "text/plain": [
       "0.5894895543445666"
      ]
     },
     "execution_count": 9,
     "metadata": {},
     "output_type": "execute_result"
    }
   ],
   "source": [
    "lanczos(1024, False).mean()"
   ]
  },
  {
   "cell_type": "markdown",
   "metadata": {},
   "source": [
    "## Side-lobe amplitude"
   ]
  },
  {
   "cell_type": "code",
   "execution_count": 10,
   "metadata": {},
   "outputs": [
    {
     "data": {
      "text/plain": [
       "-26.310317045384828"
      ]
     },
     "execution_count": 10,
     "metadata": {},
     "output_type": "execute_result"
    },
    {
     "data": {
      "image/png": "[encoded data removed]",
      "text/plain": [
       "<Figure size 1500x500 with 1 Axes>"
      ]
     },
     "metadata": {},
     "output_type": "display_data"
    }
   ],
   "source": [
    "w = lanczos(31, False)\n",
    "w = np.pad(w, (512, 512))\n",
    "H = fft.fft(w)\n",
    "H = fft.fftshift(H)\n",
    "H = 20 * np.log10(np.abs(H) + 1e-12)\n",
    "H = H - H.max()\n",
    "peaks, _ = dsp.find_peaks(H)\n",
    "ymin = H[peaks[len(peaks)//2:]][-1] - 1\n",
    "plt.figure(figsize=(15, 5))\n",
    "plt.plot(H)\n",
    "for x, y in zip(peaks, H[peaks]):\n",
    "    if y > ymin:\n",
    "        plt.text(x, y, f'{y:.2f}')\n",
    "plt.ylabel('H[k] (dB)')\n",
    "plt.xlabel('h[n]')\n",
    "plt.ylim(ymin - 1, 1)\n",
    "sorted(H[peaks], reverse=True)[1]"
   ]
  },
  {
   "cell_type": "markdown",
   "metadata": {},
   "source": [
    " "
   ]
  }
 ],
 "metadata": {
  "kernelspec": {
   "display_name": "Python 3 (ipykernel)",
   "language": "python",
   "name": "python3"
  },
  "language_info": {
   "codemirror_mode": {
    "name": "ipython",
    "version": 3
   },
   "file_extension": ".py",
   "mimetype": "text/x-python",
   "name": "python",
   "nbconvert_exporter": "python",
   "pygments_lexer": "ipython3",
   "version": "3.9.7"
  },
  "toc": {
   "base_numbering": 1,
   "nav_menu": {},
   "number_sections": true,
   "sideBar": true,
   "skip_h1_title": false,
   "title_cell": "Table of Contents",
   "title_sidebar": "Contents",
   "toc_cell": false,
   "toc_position": {},
   "toc_section_display": true,
   "toc_window_display": false
  }
 },
 "nbformat": 4,
 "nbformat_minor": 4
}
